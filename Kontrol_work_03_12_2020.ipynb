{
  "nbformat": 4,
  "nbformat_minor": 0,
  "metadata": {
    "colab": {
      "name": "Kontrol_work_03.12.2020.ipynb",
      "provenance": [],
      "authorship_tag": "ABX9TyPMBQIqYt40PayEmHMKzH+t",
      "include_colab_link": true
    },
    "kernelspec": {
      "name": "python3",
      "display_name": "Python 3"
    }
  },
  "cells": [
    {
      "cell_type": "markdown",
      "metadata": {
        "id": "view-in-github",
        "colab_type": "text"
      },
      "source": [
        "<a href=\"https://colab.research.google.com/github/MatveyTK/infa_practise/blob/master/Kontrol_work_03_12_2020.ipynb\" target=\"_parent\"><img src=\"https://colab.research.google.com/assets/colab-badge.svg\" alt=\"Open In Colab\"/></a>"
      ]
    },
    {
      "cell_type": "code",
      "metadata": {
        "colab": {
          "base_uri": "https://localhost:8080/"
        },
        "id": "WRwaq1-AoVh8",
        "outputId": "d09d14b5-02eb-4aee-9f5e-f603e1914ec8"
      },
      "source": [
        "import math\n",
        "\n",
        "print(\"a*x^2 + b*x + c = 0\")\n",
        "\n",
        "a = float(input(\"a = \"))\n",
        "b = float(input(\"b = \"))\n",
        "c = float(input(\"c = \"))\n",
        "d = b*b - 4*a*c\n",
        "\n",
        "if d >= 0:\n",
        "  x1 = (-b + math.sqrt(d)) / (2*a)\n",
        "  x2 = (-b - math.sqrt(d)) / (2*a)\n",
        "  print(\"x= \", x1)\n",
        "  print(\"x= \", x2)\n",
        "else:\n",
        "  print(\"NO_answer\")"
      ],
      "execution_count": null,
      "outputs": [
        {
          "output_type": "stream",
          "text": [
            "a*x^2 + b*x + c = 0\n",
            "a = 1\n",
            "b = 3\n",
            "c = -4\n",
            "x=  1.0\n",
            "x=  -4.0\n"
          ],
          "name": "stdout"
        }
      ]
    },
    {
      "cell_type": "code",
      "metadata": {
        "colab": {
          "base_uri": "https://localhost:8080/"
        },
        "id": "ArzaeiD4rmqM",
        "outputId": "b663ea95-81d9-4d77-e6fc-1e71667c5beb"
      },
      "source": [
        "import math\n",
        "\n",
        "a = float(input(\"a = \"))\n",
        "b = float(input(\"b = \"))\n",
        "c = float(input(\"c = \"))\n",
        "\n",
        "def discr(a, b, c):\n",
        "  d = b*b - 4*a*c;\n",
        "  return d\n",
        "def second_x(a,b):\n",
        "  x = (-b + math.sqrt(d)) / (2*a)\n",
        "  return x\n",
        "def first_x(a,b):\n",
        "  x = (-b - math.sqrt(d)) / (2*a)\n",
        "  return x\n",
        "\n",
        "z = first_x(a,b)\n",
        "y = second_x(a,b)\n",
        "print(\"x1= \", z)\n",
        "print(\"x2= \", y)"
      ],
      "execution_count": null,
      "outputs": [
        {
          "output_type": "stream",
          "text": [
            "a = 1\n",
            "b = 3\n",
            "c = -4\n",
            "x1=  -4.0\n",
            "x2=  1.0\n"
          ],
          "name": "stdout"
        }
      ]
    }
  ]
}