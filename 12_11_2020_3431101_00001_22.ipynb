{
  "nbformat": 4,
  "nbformat_minor": 0,
  "metadata": {
    "colab": {
      "name": "12.11.2020_3431101/00001_22.ipynb",
      "provenance": [],
      "authorship_tag": "ABX9TyMAfj1MUlG83oxy3Eu+Acrz",
      "include_colab_link": true
    },
    "kernelspec": {
      "name": "python3",
      "display_name": "Python 3"
    }
  },
  "cells": [
    {
      "cell_type": "markdown",
      "metadata": {
        "id": "view-in-github",
        "colab_type": "text"
      },
      "source": [
        "<a href=\"https://colab.research.google.com/github/MatveyTK/infa_practise/blob/master/12_11_2020_3431101_00001_22.ipynb\" target=\"_parent\"><img src=\"https://colab.research.google.com/assets/colab-badge.svg\" alt=\"Open In Colab\"/></a>"
      ]
    },
    {
      "cell_type": "code",
      "metadata": {
        "id": "KbjSl_Q9aVHN",
        "outputId": "8d2c8b4c-0389-4abf-d18b-b8da969a4dfd",
        "colab": {
          "base_uri": "https://localhost:8080/",
          "height": 285
        }
      },
      "source": [
        "import random\n",
        "\n",
        "data = []\n",
        "for i in range(0, 100):\n",
        "  data.append(random.randint(0, 100))\n",
        "\n",
        "a = random.randint(0,100)\n",
        "print(a)\n",
        "data.append(a)\n",
        "print(data)\n",
        "\n",
        "for i in range(99, 0, -1):\n",
        " if a < data[i]:\n",
        "  data[i], a = a, data[i]\n",
        " else:\n",
        "   data[i - 1], data[i] = data[i - 1] \n",
        "\n",
        "print(data)"
      ],
      "execution_count": 7,
      "outputs": [
        {
          "output_type": "stream",
          "text": [
            "19\n",
            "[60, 61, 96, 52, 52, 4, 34, 60, 59, 68, 9, 29, 73, 22, 3, 96, 26, 55, 9, 9, 57, 0, 83, 8, 87, 49, 19, 84, 53, 27, 51, 57, 19, 24, 61, 68, 38, 22, 58, 44, 45, 74, 19, 85, 27, 38, 64, 8, 88, 51, 81, 98, 70, 1, 63, 79, 86, 72, 22, 1, 81, 1, 99, 57, 29, 85, 76, 27, 35, 68, 74, 55, 32, 79, 6, 49, 78, 88, 47, 85, 72, 40, 59, 2, 70, 23, 81, 92, 61, 7, 81, 99, 36, 37, 58, 7, 78, 68, 5, 44, 19]\n"
          ],
          "name": "stdout"
        },
        {
          "output_type": "error",
          "ename": "TypeError",
          "evalue": "ignored",
          "traceback": [
            "\u001b[0;31m---------------------------------------------------------------------------\u001b[0m",
            "\u001b[0;31mTypeError\u001b[0m                                 Traceback (most recent call last)",
            "\u001b[0;32m<ipython-input-7-7b900e6990db>\u001b[0m in \u001b[0;36m<module>\u001b[0;34m()\u001b[0m\n\u001b[1;32m     14\u001b[0m   \u001b[0mdata\u001b[0m\u001b[0;34m[\u001b[0m\u001b[0mi\u001b[0m\u001b[0;34m]\u001b[0m\u001b[0;34m,\u001b[0m \u001b[0ma\u001b[0m \u001b[0;34m=\u001b[0m \u001b[0ma\u001b[0m\u001b[0;34m,\u001b[0m \u001b[0mdata\u001b[0m\u001b[0;34m[\u001b[0m\u001b[0mi\u001b[0m\u001b[0;34m]\u001b[0m\u001b[0;34m\u001b[0m\u001b[0;34m\u001b[0m\u001b[0m\n\u001b[1;32m     15\u001b[0m  \u001b[0;32melse\u001b[0m\u001b[0;34m:\u001b[0m\u001b[0;34m\u001b[0m\u001b[0;34m\u001b[0m\u001b[0m\n\u001b[0;32m---> 16\u001b[0;31m    \u001b[0mdata\u001b[0m\u001b[0;34m[\u001b[0m\u001b[0mi\u001b[0m \u001b[0;34m-\u001b[0m \u001b[0;36m1\u001b[0m\u001b[0;34m]\u001b[0m\u001b[0;34m,\u001b[0m \u001b[0mdata\u001b[0m\u001b[0;34m[\u001b[0m\u001b[0mi\u001b[0m\u001b[0;34m]\u001b[0m \u001b[0;34m=\u001b[0m \u001b[0mdata\u001b[0m\u001b[0;34m[\u001b[0m\u001b[0mi\u001b[0m \u001b[0;34m-\u001b[0m \u001b[0;36m1\u001b[0m\u001b[0;34m]\u001b[0m\u001b[0;34m\u001b[0m\u001b[0;34m\u001b[0m\u001b[0m\n\u001b[0m\u001b[1;32m     17\u001b[0m \u001b[0;34m\u001b[0m\u001b[0m\n\u001b[1;32m     18\u001b[0m \u001b[0mprint\u001b[0m\u001b[0;34m(\u001b[0m\u001b[0mdata\u001b[0m\u001b[0;34m)\u001b[0m\u001b[0;34m\u001b[0m\u001b[0;34m\u001b[0m\u001b[0m\n",
            "\u001b[0;31mTypeError\u001b[0m: 'int' object is not iterable"
          ]
        }
      ]
    }
  ]
}