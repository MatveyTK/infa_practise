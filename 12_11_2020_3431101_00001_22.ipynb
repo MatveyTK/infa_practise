{
  "nbformat": 4,
  "nbformat_minor": 0,
  "metadata": {
    "colab": {
      "name": "12.11.2020_3431101/00001_22.ipynb",
      "provenance": [],
      "authorship_tag": "ABX9TyOhNLMqnECx8zIPPsDV8y/C",
      "include_colab_link": true
    },
    "kernelspec": {
      "name": "python3",
      "display_name": "Python 3"
    }
  },
  "cells": [
    {
      "cell_type": "markdown",
      "metadata": {
        "id": "view-in-github",
        "colab_type": "text"
      },
      "source": [
        "<a href=\"https://colab.research.google.com/github/MatveyTK/infa_practise/blob/master/12_11_2020_3431101_00001_22.ipynb\" target=\"_parent\"><img src=\"https://colab.research.google.com/assets/colab-badge.svg\" alt=\"Open In Colab\"/></a>"
      ]
    },
    {
      "cell_type": "markdown",
      "metadata": {
        "id": "eMBrBceECKMv"
      },
      "source": [
        "Быстрый поиск"
      ]
    },
    {
      "cell_type": "code",
      "metadata": {
        "id": "KbjSl_Q9aVHN",
        "outputId": "64aff892-9cc8-48a7-8dc4-8f67ac2c9bca",
        "colab": {
          "base_uri": "https://localhost:8080/"
        }
      },
      "source": [
        "import random\n",
        "\n",
        "data = []\n",
        "for i in range(0, 31):\n",
        "  data.append(random.randint(0, 100))\n",
        "\n",
        "a = random.randint(0,100)\n",
        "print(a)\n",
        "data.append(a)\n",
        "print(data)\n",
        "\n",
        "for i in range(30, 0, -1):\n",
        " b = data[i]\n",
        " if a < b:\n",
        "  data[i], data[i+1] = data[i+1], data[i]\n",
        " else:\n",
        "  continue\n",
        "\n",
        "print(data)"
      ],
      "execution_count": 24,
      "outputs": [
        {
          "output_type": "stream",
          "text": [
            "48\n",
            "[63, 89, 98, 34, 7, 29, 44, 94, 94, 73, 52, 40, 29, 77, 29, 46, 67, 24, 70, 21, 70, 3, 87, 78, 100, 75, 86, 78, 2, 38, 100, 48]\n",
            "[63, 34, 89, 98, 7, 29, 44, 40, 94, 94, 73, 52, 29, 29, 77, 46, 24, 67, 21, 70, 3, 70, 2, 87, 78, 100, 75, 86, 78, 38, 48, 100]\n"
          ],
          "name": "stdout"
        }
      ]
    },
    {
      "cell_type": "code",
      "metadata": {
        "id": "ccy1bDCYGbBR"
      },
      "source": [
        ""
      ],
      "execution_count": null,
      "outputs": []
    }
  ]
}