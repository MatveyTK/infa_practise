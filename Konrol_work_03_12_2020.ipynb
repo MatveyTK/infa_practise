{
  "nbformat": 4,
  "nbformat_minor": 0,
  "metadata": {
    "colab": {
      "name": "Konrol_work_03.12.2020.ipynb",
      "provenance": [],
      "authorship_tag": "ABX9TyOxVraejeJheK4GiLz+s1ck",
      "include_colab_link": true
    },
    "kernelspec": {
      "name": "python3",
      "display_name": "Python 3"
    }
  },
  "cells": [
    {
      "cell_type": "markdown",
      "metadata": {
        "id": "view-in-github",
        "colab_type": "text"
      },
      "source": [
        "<a href=\"https://colab.research.google.com/github/MatveyTK/infa_practise/blob/master/Konrol_work_03_12_2020.ipynb\" target=\"_parent\"><img src=\"https://colab.research.google.com/assets/colab-badge.svg\" alt=\"Open In Colab\"/></a>"
      ]
    },
    {
      "cell_type": "code",
      "metadata": {
        "colab": {
          "base_uri": "https://localhost:8080/"
        },
        "id": "WRwaq1-AoVh8",
        "outputId": "fe05a65a-00a2-44d8-ba2d-4cada2a934ed"
      },
      "source": [
        "import math\n",
        "\n",
        "print(\"a*x^2 + b*x + c = 0\")\n",
        "\n",
        "a = float(input(\"a = \"))\n",
        "b = float(input(\"b = \"))\n",
        "c = float(input(\"c = \"))\n",
        "d = b*b - 4*a*c\n",
        "\n",
        "if d >= 0:\n",
        "  x1 = (-b + math.sqrt(d)) / (2*a)\n",
        "  x2 = (-b - math.sqrt(d)) / (2*a)\n",
        "  print(\"x= \", x1)\n",
        "  print(\"x= \", x2)\n",
        "else:\n",
        "  print(\"NO_answer\")"
      ],
      "execution_count": 4,
      "outputs": [
        {
          "output_type": "stream",
          "text": [
            "a*x^2 + b*x + c = 0\n",
            "a = 1\n",
            "b = 5\n",
            "c = 1\n",
            "x=  -0.20871215252208009\n",
            "x=  -4.7912878474779195\n"
          ],
          "name": "stdout"
        }
      ]
    },
    {
      "cell_type": "code",
      "metadata": {
        "colab": {
          "base_uri": "https://localhost:8080/"
        },
        "id": "ArzaeiD4rmqM",
        "outputId": "71f4d79b-9c05-462d-8747-b76651262d7f"
      },
      "source": [
        "import math\n",
        "\n",
        "a = float(input(\"a = \"))\n",
        "b = float(input(\"b = \"))\n",
        "c = float(input(\"c = \"))\n",
        "\n",
        "def discr(a, b, c):\n",
        "  d = b*b - 4*a*c;\n",
        "  return d\n",
        "  if d > 0:\n",
        "   x = (-b + math.sqrt(d)) / (2*a)\n",
        "   return x\n",
        "   x2 = (-b - math.sqrt(d)) / (2*a)\n",
        "   return x\n",
        "  else:\n",
        "    return no_answer\n",
        "\n",
        "print(\"x= \", x1)\n",
        "print(\"x= \", x2)"
      ],
      "execution_count": 12,
      "outputs": [
        {
          "output_type": "stream",
          "text": [
            "a = 45556\n",
            "b = 864654\n",
            "c = 23132131\n",
            "x=  -0.20871215252208009\n",
            "x=  -4.7912878474779195\n"
          ],
          "name": "stdout"
        }
      ]
    },
    {
      "cell_type": "code",
      "metadata": {
        "colab": {
          "base_uri": "https://localhost:8080/",
          "height": 129
        },
        "id": "aX5jNUsXuXOK",
        "outputId": "c07a7cd2-ca9f-4bf2-e098-fa2d1c67045e"
      },
      "source": [
        "a \n",
        "\n",
        "return a"
      ],
      "execution_count": 9,
      "outputs": [
        {
          "output_type": "error",
          "ename": "SyntaxError",
          "evalue": "ignored",
          "traceback": [
            "\u001b[0;36m  File \u001b[0;32m\"<ipython-input-9-ef8a7aa154da>\"\u001b[0;36m, line \u001b[0;32m1\u001b[0m\n\u001b[0;31m    return \"NO_answer\"\u001b[0m\n\u001b[0m                      ^\u001b[0m\n\u001b[0;31mSyntaxError\u001b[0m\u001b[0;31m:\u001b[0m 'return' outside function\n"
          ]
        }
      ]
    }
  ]
}