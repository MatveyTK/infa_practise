{
  "nbformat": 4,
  "nbformat_minor": 0,
  "metadata": {
    "colab": {
      "name": "22.10.2020_3431101/00001_22.ipynb",
      "provenance": [],
      "collapsed_sections": [],
      "authorship_tag": "ABX9TyPl+sZuNJBg4yv6eL2uH1FG",
      "include_colab_link": true
    },
    "kernelspec": {
      "name": "python3",
      "display_name": "Python 3"
    }
  },
  "cells": [
    {
      "cell_type": "markdown",
      "metadata": {
        "id": "view-in-github",
        "colab_type": "text"
      },
      "source": [
        "<a href=\"https://colab.research.google.com/github/MatveyTK/infa_practise/blob/master/22_10_2020_3431101_00001_22.ipynb\" target=\"_parent\"><img src=\"https://colab.research.google.com/assets/colab-badge.svg\" alt=\"Open In Colab\"/></a>"
      ]
    },
    {
      "cell_type": "markdown",
      "metadata": {
        "id": "6iKH7b69SYEd"
      },
      "source": [
        "_Первая_практика_питон_ \n",
        "\n",
        "Ткаченко Матвей\n",
        "\n",
        "Задание - найти на телефоне определенное приложение\n",
        "\n",
        "Решение -\n"
      ]
    },
    {
      "cell_type": "code",
      "metadata": {
        "id": "RkhepsdyTVbR",
        "outputId": "71b5e436-8c0e-403b-ab6c-29a88f951bfa",
        "colab": {
          "base_uri": "https://localhost:8080/"
        }
      },
      "source": [
        "applications = ['Twitter', 'Instagram', 'Telegram', 'Slack', 'Facebook']\n",
        "tools = ['Calculator', 'Clock', 'Settings', 'Compass']\n",
        "games = ['Pac-Man', 'Pitfal', 'Donkey-Kong', 'The_Legend_of_Zelda']\n",
        "\n",
        "phone = [applications, tools, games]\n",
        "\n",
        "def find(app_target):\n",
        "  for i, screen in enumerate(phone):\n",
        "    for app_name in screen:\n",
        "      if app_name == app_target:\n",
        "        print(f'Found {app_name} on screen {i}')\n",
        "        return\n",
        "  print(f'NOT_Found {app_name}')\n",
        "\n",
        "find('Instagram')"
      ],
      "execution_count": 11,
      "outputs": [
        {
          "output_type": "stream",
          "text": [
            "Found Instagram on screen 0\n"
          ],
          "name": "stdout"
        }
      ]
    }
  ]
}