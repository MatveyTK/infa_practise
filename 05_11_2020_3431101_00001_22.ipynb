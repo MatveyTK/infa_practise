{
  "nbformat": 4,
  "nbformat_minor": 0,
  "metadata": {
    "colab": {
      "name": "05.11.2020_3431101/00001_22.ipynb",
      "provenance": [],
      "authorship_tag": "ABX9TyM2I7whrtaa4tAWN13SFAmZ",
      "include_colab_link": true
    },
    "kernelspec": {
      "name": "python3",
      "display_name": "Python 3"
    }
  },
  "cells": [
    {
      "cell_type": "markdown",
      "metadata": {
        "id": "view-in-github",
        "colab_type": "text"
      },
      "source": [
        "<a href=\"https://colab.research.google.com/github/MatveyTK/infa_practise/blob/master/05_11_2020_3431101_00001_22.ipynb\" target=\"_parent\"><img src=\"https://colab.research.google.com/assets/colab-badge.svg\" alt=\"Open In Colab\"/></a>"
      ]
    },
    {
      "cell_type": "markdown",
      "metadata": {
        "id": "Kjcs5Z8tBNBW"
      },
      "source": [
        "Бинарный поиск:\n",
        "  1 - чистый код\n",
        "  2 - функция"
      ]
    },
    {
      "cell_type": "code",
      "metadata": {
        "id": "urZ1a9DbTzI3",
        "outputId": "5d5afbcc-e7e0-4732-c59f-62523281a026",
        "colab": {
          "base_uri": "https://localhost:8080/"
        }
      },
      "source": [
        "import random\n",
        "\n",
        "data = []\n",
        "for i in range(1,101):\n",
        "  data.append(random.randint(0,100))\n",
        "\n",
        "data.sort()\n",
        "print(\"list: \", data)\n",
        "\n",
        "value = 12\n",
        "print(\"find: \", value)\n",
        "low = 0\n",
        "high = len(data) - 1\n",
        "\n",
        "if (value in data) is False:\n",
        "  print('NO_found_value')\n",
        "else:\n",
        "  if mid == value:\n",
        "    print(\"ID = \", mid)\n",
        "  else:\n",
        "    while low <= high:\n",
        "      mid = (low + high) // 2\n",
        "      if mid < value:\n",
        "        low = mid + 1\n",
        "      else:\n",
        "        high = mid - 1 \n",
        "    print(\"ID =  \", low)\n",
        "    "
      ],
      "execution_count": 5,
      "outputs": [
        {
          "output_type": "stream",
          "text": [
            "list:  [0, 0, 0, 4, 5, 5, 6, 8, 8, 9, 9, 10, 11, 11, 11, 14, 14, 15, 17, 17, 19, 20, 23, 23, 25, 25, 27, 27, 27, 29, 29, 29, 31, 31, 32, 32, 34, 35, 36, 36, 37, 37, 38, 39, 40, 41, 43, 44, 45, 47, 47, 48, 50, 51, 53, 53, 57, 58, 59, 59, 60, 61, 62, 63, 64, 64, 65, 66, 67, 68, 68, 69, 69, 71, 71, 73, 74, 78, 78, 79, 80, 80, 80, 81, 83, 83, 85, 87, 88, 90, 91, 92, 92, 93, 94, 94, 96, 96, 96, 100]\n",
            "find:  12\n",
            "NO_found_value\n"
          ],
          "name": "stdout"
        }
      ]
    },
    {
      "cell_type": "code",
      "metadata": {
        "id": "otCuyM3-5Jw_"
      },
      "source": [
        "def BinarySearch(data, value):\n",
        " low = o\n",
        " high = len(data) - 1\n",
        " while low <= high:\n",
        "   mid = (low + high) // 2\n",
        "   if data[mid] == value:\n",
        "     return mid\n",
        "   elif data[mid] < value:\n",
        "     low = mid + 1\n",
        "   else:\n",
        "     high = mid + 1\n",
        " return -1"
      ],
      "execution_count": 12,
      "outputs": []
    }
  ]
}