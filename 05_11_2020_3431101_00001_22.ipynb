{
  "nbformat": 4,
  "nbformat_minor": 0,
  "metadata": {
    "colab": {
      "name": "05.11.2020_3431101/00001_22.ipynb",
      "provenance": [],
      "authorship_tag": "ABX9TyM7YHamevb+E4uwIXXqGX+m",
      "include_colab_link": true
    },
    "kernelspec": {
      "name": "python3",
      "display_name": "Python 3"
    }
  },
  "cells": [
    {
      "cell_type": "markdown",
      "metadata": {
        "id": "view-in-github",
        "colab_type": "text"
      },
      "source": [
        "<a href=\"https://colab.research.google.com/github/MatveyTK/infa_practise/blob/master/05_11_2020_3431101_00001_22.ipynb\" target=\"_parent\"><img src=\"https://colab.research.google.com/assets/colab-badge.svg\" alt=\"Open In Colab\"/></a>"
      ]
    },
    {
      "cell_type": "markdown",
      "metadata": {
        "id": "Kjcs5Z8tBNBW"
      },
      "source": [
        "Бинарный поиск"
      ]
    },
    {
      "cell_type": "code",
      "metadata": {
        "id": "urZ1a9DbTzI3",
        "outputId": "4d33bf9e-af99-4c73-b55b-a03111fbfbc9",
        "colab": {
          "base_uri": "https://localhost:8080/"
        }
      },
      "source": [
        "import random\n",
        "\n",
        "data = []\n",
        "for i in range(1,101):\n",
        "  data.append(random.randint(0,100))\n",
        "\n",
        "data.sort()\n",
        "print(data)\n",
        "\n",
        "value = 87\n",
        "\n",
        "mid = len(data) // 2\n",
        "low = -1\n",
        "high = len(data) - 1\n",
        "\n",
        "if (value in data) is False:\n",
        "  print('NO_found_value')\n",
        "else:\n",
        "  if mid == value:\n",
        "    print(\"ID = \", mid)\n",
        "  elif value > mid:\n",
        "    mid_r = mid // 2\n",
        "    if mid_r == value\n",
        "  else:\n",
        "    mid_l"
      ],
      "execution_count": null,
      "outputs": [
        {
          "output_type": "stream",
          "text": [
            "[0, 0, 1, 2, 2, 3, 3, 4, 4, 4, 5, 6, 7, 7, 8, 8, 9, 10, 10, 11, 20, 21, 22, 23, 23, 24, 25, 27, 28, 30, 32, 33, 34, 35, 37, 38, 38, 38, 39, 40, 40, 41, 42, 43, 44, 44, 45, 46, 46, 47, 47, 48, 49, 49, 53, 53, 54, 55, 56, 59, 60, 62, 63, 63, 65, 65, 66, 66, 67, 68, 69, 69, 70, 70, 71, 71, 72, 72, 72, 74, 74, 75, 76, 76, 79, 80, 81, 81, 82, 87, 87, 91, 92, 93, 94, 95, 96, 97, 100, 100]\n",
            "25\n"
          ],
          "name": "stdout"
        }
      ]
    }
  ]
}